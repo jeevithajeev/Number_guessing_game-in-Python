{
 "cells": [
  {
   "cell_type": "code",
   "execution_count": 5,
   "metadata": {},
   "outputs": [],
   "source": [
    "#Number guessing game in Python\n",
    "import random\n",
    "number = random.randint(1,9)\n",
    "turns = 0\n",
    "print(\"Guess a number between 1 to 9: \")\n",
    "while turns < 5:\n",
    "    guess = int(input())\n",
    "    if guess == number:\n",
    "        print(\"Yay! you won the Game\")\n",
    "        break\n",
    "    elif guess < number:\n",
    "        print(\"Your guess was low, guess a number higher than\", guess)\n",
    "    else:\n",
    "        print(\"Your guess was high, guess a number lower than\", guess)\n",
    "        \n",
    "    turns += 1\n",
    "if not turns < 5:\n",
    "    print(\"You lost the game!, the number is\", number)"
   ]
  },
  {
   "cell_type": "markdown",
   "metadata": {},
   "source": []
  }
 ],
 "metadata": {
  "kernelspec": {
   "display_name": "Python 3",
   "language": "python",
   "name": "python3"
  },
  "language_info": {
   "codemirror_mode": {
    "name": "ipython",
    "version": 3
   },
   "file_extension": ".py",
   "mimetype": "text/x-python",
   "name": "python",
   "nbconvert_exporter": "python",
   "pygments_lexer": "ipython3",
   "version": "3.8.5"
  }
 },
 "nbformat": 4,
 "nbformat_minor": 4
}
